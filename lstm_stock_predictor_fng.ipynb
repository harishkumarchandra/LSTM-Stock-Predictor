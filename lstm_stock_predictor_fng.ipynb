{
  "nbformat": 4,
  "nbformat_minor": 0,
  "metadata": {
    "file_extension": ".py",
    "kernelspec": {
      "display_name": "Python 3",
      "language": "python",
      "name": "python3"
    },
    "language_info": {
      "codemirror_mode": {
        "name": "ipython",
        "version": 3
      },
      "file_extension": ".py",
      "mimetype": "text/x-python",
      "name": "python",
      "nbconvert_exporter": "python",
      "pygments_lexer": "ipython3",
      "version": "3.7.9"
    },
    "mimetype": "text/x-python",
    "name": "python",
    "npconvert_exporter": "python",
    "pygments_lexer": "ipython3",
    "version": 3,
    "colab": {
      "name": "lstm_stock_predictor_fng.ipynb",
      "provenance": [],
      "collapsed_sections": [],
      "toc_visible": true
    }
  },
  "cells": [
    {
      "cell_type": "markdown",
      "metadata": {
        "id": "CuTq4NxWrVzf"
      },
      "source": [
        "# LSTM Stock Predictor Using Fear and Greed Index\n",
        "\n",
        "In this notebook, you will build and train a custom LSTM RNN that uses a 10 day window of Bitcoin fear and greed index values to predict the 11th day closing price. \n",
        "\n",
        "You will need to:\n",
        "\n",
        "1. Prepare the data for training and testing\n",
        "2. Build and train a custom LSTM RNN\n",
        "3. Evaluate the performance of the model"
      ]
    },
    {
      "cell_type": "markdown",
      "metadata": {
        "id": "6yCdukxjrVzj"
      },
      "source": [
        "## Data Preparation\n",
        "\n",
        "In this section, you will need to prepare the training and testing data for the model. The model will use a rolling 10 day window to predict the 11th day closing price.\n",
        "\n",
        "You will need to:\n",
        "1. Use the `window_data` function to generate the X and y values for the model.\n",
        "2. Split the data into 70% training and 30% testing\n",
        "3. Apply the MinMaxScaler to the X and y values\n",
        "4. Reshape the X_train and X_test data for the model. Note: The required input format for the LSTM is:\n",
        "\n",
        "```python\n",
        "reshape((X_train.shape[0], X_train.shape[1], 1))\n",
        "```"
      ]
    },
    {
      "cell_type": "code",
      "metadata": {
        "id": "kx9mVG3JrVzk"
      },
      "source": [
        "import numpy as np\n",
        "import pandas as pd\n",
        "import matplotlib"
      ],
      "execution_count": 2,
      "outputs": []
    },
    {
      "cell_type": "code",
      "metadata": {
        "id": "-IghXL4GrVzn"
      },
      "source": [
        "# Set the random seed for reproducibility\n",
        "# Note: This is for the homework solution, but it is good practice to comment this out and run multiple experiments to evaluate your model\n",
        "from numpy.random import seed\n",
        "seed(1)\n",
        "from tensorflow import random\n",
        "random.set_seed(2)"
      ],
      "execution_count": 3,
      "outputs": []
    },
    {
      "cell_type": "code",
      "metadata": {
        "colab": {
          "base_uri": "https://localhost:8080/",
          "height": 235
        },
        "id": "p5inYWN5rVzn",
        "outputId": "ecf09f0d-db96-4e9f-9cf2-1cfab0c0117d"
      },
      "source": [
        "# Load the fear and greed sentiment data for Bitcoin\n",
        "df = pd.read_csv('btc_sentiment.csv', index_col=\"date\", infer_datetime_format=True, parse_dates=True)\n",
        "df = df.drop(columns=\"fng_classification\")\n",
        "df.head()"
      ],
      "execution_count": 4,
      "outputs": [
        {
          "output_type": "execute_result",
          "data": {
            "text/html": [
              "<div>\n",
              "<style scoped>\n",
              "    .dataframe tbody tr th:only-of-type {\n",
              "        vertical-align: middle;\n",
              "    }\n",
              "\n",
              "    .dataframe tbody tr th {\n",
              "        vertical-align: top;\n",
              "    }\n",
              "\n",
              "    .dataframe thead th {\n",
              "        text-align: right;\n",
              "    }\n",
              "</style>\n",
              "<table border=\"1\" class=\"dataframe\">\n",
              "  <thead>\n",
              "    <tr style=\"text-align: right;\">\n",
              "      <th></th>\n",
              "      <th>fng_value</th>\n",
              "    </tr>\n",
              "    <tr>\n",
              "      <th>date</th>\n",
              "      <th></th>\n",
              "    </tr>\n",
              "  </thead>\n",
              "  <tbody>\n",
              "    <tr>\n",
              "      <th>2019-07-29</th>\n",
              "      <td>19</td>\n",
              "    </tr>\n",
              "    <tr>\n",
              "      <th>2019-07-28</th>\n",
              "      <td>16</td>\n",
              "    </tr>\n",
              "    <tr>\n",
              "      <th>2019-07-27</th>\n",
              "      <td>47</td>\n",
              "    </tr>\n",
              "    <tr>\n",
              "      <th>2019-07-26</th>\n",
              "      <td>24</td>\n",
              "    </tr>\n",
              "    <tr>\n",
              "      <th>2019-07-25</th>\n",
              "      <td>42</td>\n",
              "    </tr>\n",
              "  </tbody>\n",
              "</table>\n",
              "</div>"
            ],
            "text/plain": [
              "             fng_value\n",
              "date                  \n",
              "2019-07-29          19\n",
              "2019-07-28          16\n",
              "2019-07-27          47\n",
              "2019-07-26          24\n",
              "2019-07-25          42"
            ]
          },
          "metadata": {
            "tags": []
          },
          "execution_count": 4
        }
      ]
    },
    {
      "cell_type": "code",
      "metadata": {
        "colab": {
          "base_uri": "https://localhost:8080/"
        },
        "id": "GFN5nws0rVzo",
        "outputId": "0fb5228b-90fe-4785-eab0-6ca2aca5334b"
      },
      "source": [
        "# Load the historical closing prices for Bitcoin\n",
        "df2 = pd.read_csv('btc_historic.csv', index_col=\"Date\", infer_datetime_format=True, parse_dates=True)['Close']\n",
        "df2 = df2.sort_index()\n",
        "df2.tail()"
      ],
      "execution_count": 5,
      "outputs": [
        {
          "output_type": "execute_result",
          "data": {
            "text/plain": [
              "Date\n",
              "2019-07-25    9882.429688\n",
              "2019-07-26    9847.450195\n",
              "2019-07-27    9478.320313\n",
              "2019-07-28    9531.769531\n",
              "2019-07-29    9529.889648\n",
              "Name: Close, dtype: float64"
            ]
          },
          "metadata": {
            "tags": []
          },
          "execution_count": 5
        }
      ]
    },
    {
      "cell_type": "code",
      "metadata": {
        "colab": {
          "base_uri": "https://localhost:8080/",
          "height": 204
        },
        "id": "aAxopHqUrVzo",
        "outputId": "9293b598-7d6f-4917-bbc6-3d9f20c216c9"
      },
      "source": [
        "# Join the data into a single DataFrame\n",
        "df = df.join(df2, how=\"inner\")\n",
        "df.tail()"
      ],
      "execution_count": 6,
      "outputs": [
        {
          "output_type": "execute_result",
          "data": {
            "text/html": [
              "<div>\n",
              "<style scoped>\n",
              "    .dataframe tbody tr th:only-of-type {\n",
              "        vertical-align: middle;\n",
              "    }\n",
              "\n",
              "    .dataframe tbody tr th {\n",
              "        vertical-align: top;\n",
              "    }\n",
              "\n",
              "    .dataframe thead th {\n",
              "        text-align: right;\n",
              "    }\n",
              "</style>\n",
              "<table border=\"1\" class=\"dataframe\">\n",
              "  <thead>\n",
              "    <tr style=\"text-align: right;\">\n",
              "      <th></th>\n",
              "      <th>fng_value</th>\n",
              "      <th>Close</th>\n",
              "    </tr>\n",
              "  </thead>\n",
              "  <tbody>\n",
              "    <tr>\n",
              "      <th>2019-07-25</th>\n",
              "      <td>42</td>\n",
              "      <td>9882.429688</td>\n",
              "    </tr>\n",
              "    <tr>\n",
              "      <th>2019-07-26</th>\n",
              "      <td>24</td>\n",
              "      <td>9847.450195</td>\n",
              "    </tr>\n",
              "    <tr>\n",
              "      <th>2019-07-27</th>\n",
              "      <td>47</td>\n",
              "      <td>9478.320313</td>\n",
              "    </tr>\n",
              "    <tr>\n",
              "      <th>2019-07-28</th>\n",
              "      <td>16</td>\n",
              "      <td>9531.769531</td>\n",
              "    </tr>\n",
              "    <tr>\n",
              "      <th>2019-07-29</th>\n",
              "      <td>19</td>\n",
              "      <td>9529.889648</td>\n",
              "    </tr>\n",
              "  </tbody>\n",
              "</table>\n",
              "</div>"
            ],
            "text/plain": [
              "             fng_value        Close\n",
              "2019-07-25          42  9882.429688\n",
              "2019-07-26          24  9847.450195\n",
              "2019-07-27          47  9478.320313\n",
              "2019-07-28          16  9531.769531\n",
              "2019-07-29          19  9529.889648"
            ]
          },
          "metadata": {
            "tags": []
          },
          "execution_count": 6
        }
      ]
    },
    {
      "cell_type": "code",
      "metadata": {
        "colab": {
          "base_uri": "https://localhost:8080/",
          "height": 204
        },
        "id": "IUiE4Wc1rVzp",
        "outputId": "116d4af1-b907-4496-b876-0a4e2b331e5e"
      },
      "source": [
        "df.head()"
      ],
      "execution_count": 7,
      "outputs": [
        {
          "output_type": "execute_result",
          "data": {
            "text/html": [
              "<div>\n",
              "<style scoped>\n",
              "    .dataframe tbody tr th:only-of-type {\n",
              "        vertical-align: middle;\n",
              "    }\n",
              "\n",
              "    .dataframe tbody tr th {\n",
              "        vertical-align: top;\n",
              "    }\n",
              "\n",
              "    .dataframe thead th {\n",
              "        text-align: right;\n",
              "    }\n",
              "</style>\n",
              "<table border=\"1\" class=\"dataframe\">\n",
              "  <thead>\n",
              "    <tr style=\"text-align: right;\">\n",
              "      <th></th>\n",
              "      <th>fng_value</th>\n",
              "      <th>Close</th>\n",
              "    </tr>\n",
              "  </thead>\n",
              "  <tbody>\n",
              "    <tr>\n",
              "      <th>2018-02-01</th>\n",
              "      <td>30</td>\n",
              "      <td>9114.719727</td>\n",
              "    </tr>\n",
              "    <tr>\n",
              "      <th>2018-02-02</th>\n",
              "      <td>15</td>\n",
              "      <td>8870.820313</td>\n",
              "    </tr>\n",
              "    <tr>\n",
              "      <th>2018-02-03</th>\n",
              "      <td>40</td>\n",
              "      <td>9251.269531</td>\n",
              "    </tr>\n",
              "    <tr>\n",
              "      <th>2018-02-04</th>\n",
              "      <td>24</td>\n",
              "      <td>8218.049805</td>\n",
              "    </tr>\n",
              "    <tr>\n",
              "      <th>2018-02-05</th>\n",
              "      <td>11</td>\n",
              "      <td>6937.080078</td>\n",
              "    </tr>\n",
              "  </tbody>\n",
              "</table>\n",
              "</div>"
            ],
            "text/plain": [
              "             fng_value        Close\n",
              "2018-02-01          30  9114.719727\n",
              "2018-02-02          15  8870.820313\n",
              "2018-02-03          40  9251.269531\n",
              "2018-02-04          24  8218.049805\n",
              "2018-02-05          11  6937.080078"
            ]
          },
          "metadata": {
            "tags": []
          },
          "execution_count": 7
        }
      ]
    },
    {
      "cell_type": "code",
      "metadata": {
        "id": "HXVgeEzlrVzp"
      },
      "source": [
        "# This function accepts the column number for the features (X) and the target (y)\n",
        "# It chunks the data up with a rolling window of Xt-n to predict Xt\n",
        "# It returns a numpy array of X any y\n",
        "def window_data(df, window, feature_col_number, target_col_number):\n",
        "    X = []\n",
        "    y = []\n",
        "    for i in range(len(df) - window - 1):\n",
        "        features = df.iloc[i:(i + window), feature_col_number]\n",
        "        target = df.iloc[(i + window), target_col_number]\n",
        "        X.append(features)\n",
        "        y.append(target)\n",
        "    return np.array(X), np.array(y).reshape(-1, 1)"
      ],
      "execution_count": 8,
      "outputs": []
    },
    {
      "cell_type": "code",
      "metadata": {
        "id": "WVYGofIdrVzq"
      },
      "source": [
        "# Predict Closing Prices using a 10 day window of previous fng values\n",
        "# Then, experiment with window sizes anywhere from 1 to 10 and see how the model performance changes\n",
        "window_size = 10\n",
        "\n",
        "# Column index 0 is the 'fng_value' column\n",
        "# Column index 1 is the `Close` column\n",
        "feature_column = 0\n",
        "target_column = 1\n",
        "X, y = window_data(df, window_size, feature_column, target_column)"
      ],
      "execution_count": 9,
      "outputs": []
    },
    {
      "cell_type": "code",
      "metadata": {
        "id": "ovRbb4y5rVzq"
      },
      "source": [
        "# Use 70% of the data for training and the remaineder for testing\n",
        "# YOUR CODE HERE!\n",
        "split = int(0.7 * len(X))\n",
        "X_train = X[: split]\n",
        "X_test = X[split:]\n",
        "y_train = y[: split]\n",
        "y_test = y[split:]"
      ],
      "execution_count": 10,
      "outputs": []
    },
    {
      "cell_type": "code",
      "metadata": {
        "id": "tlLePFDmrVzq"
      },
      "source": [
        "from sklearn.preprocessing import MinMaxScaler\n",
        "# Use the MinMaxScaler to scale data between 0 and 1.\n",
        "# YOUR CODE HERE!\n",
        "scaler = MinMaxScaler()\n",
        "scaler.fit(X)\n",
        "X_train = scaler.transform(X_train)\n",
        "X_test = scaler.transform(X_test)\n",
        "scaler.fit(y)\n",
        "y_train = scaler.transform(y_train)\n",
        "y_test = scaler.transform(y_test)"
      ],
      "execution_count": 11,
      "outputs": []
    },
    {
      "cell_type": "code",
      "metadata": {
        "id": "crNQzro8rVzr"
      },
      "source": [
        "# Reshape the features for the model\n",
        "# YOUR CODE HERE!\n",
        "X_train = X_train.reshape((X_train.shape[0], X_train.shape[1], 1))\n",
        "X_test = X_test.reshape((X_test.shape[0], X_test.shape[1], 1))"
      ],
      "execution_count": 12,
      "outputs": []
    },
    {
      "cell_type": "markdown",
      "metadata": {
        "id": "hnE24uUErVzr"
      },
      "source": [
        "---"
      ]
    },
    {
      "cell_type": "markdown",
      "metadata": {
        "id": "PNkJ5gxDrVzr"
      },
      "source": [
        "## Build and Train the LSTM RNN\n",
        "\n",
        "In this section, you will design a custom LSTM RNN and fit (train) it using the training data.\n",
        "\n",
        "You will need to:\n",
        "1. Define the model architecture\n",
        "2. Compile the model\n",
        "3. Fit the model to the training data\n",
        "\n",
        "### Hints:\n",
        "You will want to use the same model architecture and random seed for both notebooks. This is necessary to accurately compare the performance of the FNG model vs the closing price model. "
      ]
    },
    {
      "cell_type": "code",
      "metadata": {
        "id": "98lNWnVprVzs"
      },
      "source": [
        "from tensorflow.keras.models import Sequential\n",
        "from tensorflow.keras.layers import LSTM, Dense, Dropout"
      ],
      "execution_count": 13,
      "outputs": []
    },
    {
      "cell_type": "code",
      "metadata": {
        "id": "92aRqYK4rVzs"
      },
      "source": [
        "# Build the LSTM model. \n",
        "# The return sequences need to be set to True if you are adding additional LSTM layers, but \n",
        "# You don't have to do this for the final layer. \n",
        "# Note: The dropouts help prevent overfitting\n",
        "# Note: The input shape is the number of time steps and the number of indicators\n",
        "# Note: Batching inputs has a different input shape of Samples/TimeSteps/Features\n",
        "\n",
        "# YOUR CODE HERE!\n",
        "model = Sequential()\n",
        "\n",
        "number_units = 30\n",
        "dropout_fraction = 0.2\n",
        "\n",
        "# Layer 1\n",
        "model.add(LSTM(\n",
        "    units=number_units,\n",
        "    return_sequences=True,\n",
        "    input_shape=(X_train.shape[1], 1))\n",
        "    )\n",
        "model.add(Dropout(dropout_fraction))\n",
        "# Layer 2\n",
        "model.add(LSTM(units=number_units, return_sequences=True))\n",
        "model.add(Dropout(dropout_fraction))\n",
        "# Layer 3\n",
        "model.add(LSTM(units=number_units))\n",
        "model.add(Dropout(dropout_fraction))\n",
        "# Output layer\n",
        "model.add(Dense(1))"
      ],
      "execution_count": 14,
      "outputs": []
    },
    {
      "cell_type": "code",
      "metadata": {
        "id": "4mPKmiSLrVzs"
      },
      "source": [
        "# Compile the model\n",
        "# YOUR CODE HERE!\n",
        "model.compile(optimizer=\"adam\", loss=\"mean_squared_error\")"
      ],
      "execution_count": 15,
      "outputs": []
    },
    {
      "cell_type": "code",
      "metadata": {
        "colab": {
          "base_uri": "https://localhost:8080/"
        },
        "id": "sdBqDs1yrVzs",
        "outputId": "7429713d-957b-4934-b9cc-1393d3ca1d92"
      },
      "source": [
        "# Summarize the model\n",
        "# YOUR CODE HERE!\n",
        "model.summary()"
      ],
      "execution_count": 16,
      "outputs": [
        {
          "output_type": "stream",
          "text": [
            "Model: \"sequential\"\n",
            "_________________________________________________________________\n",
            "Layer (type)                 Output Shape              Param #   \n",
            "=================================================================\n",
            "lstm (LSTM)                  (None, 10, 30)            3840      \n",
            "_________________________________________________________________\n",
            "dropout (Dropout)            (None, 10, 30)            0         \n",
            "_________________________________________________________________\n",
            "lstm_1 (LSTM)                (None, 10, 30)            7320      \n",
            "_________________________________________________________________\n",
            "dropout_1 (Dropout)          (None, 10, 30)            0         \n",
            "_________________________________________________________________\n",
            "lstm_2 (LSTM)                (None, 30)                7320      \n",
            "_________________________________________________________________\n",
            "dropout_2 (Dropout)          (None, 30)                0         \n",
            "_________________________________________________________________\n",
            "dense (Dense)                (None, 1)                 31        \n",
            "=================================================================\n",
            "Total params: 18,511\n",
            "Trainable params: 18,511\n",
            "Non-trainable params: 0\n",
            "_________________________________________________________________\n"
          ],
          "name": "stdout"
        }
      ]
    },
    {
      "cell_type": "code",
      "metadata": {
        "colab": {
          "base_uri": "https://localhost:8080/"
        },
        "id": "2chQrLQzrVzt",
        "outputId": "edeef59b-b26d-44eb-c366-9d791124ac7b"
      },
      "source": [
        "# Train the model\n",
        "# Use at least 10 epochs\n",
        "# Do not shuffle the data\n",
        "# Experiement with the batch size, but a smaller batch size is recommended\n",
        "# YOUR CODE HERE!\n",
        "model.fit(X_train, y_train, epochs=10, shuffle=False, batch_size=1, verbose=1)"
      ],
      "execution_count": 17,
      "outputs": [
        {
          "output_type": "stream",
          "text": [
            "Epoch 1/10\n",
            "372/372 [==============================] - 8s 9ms/step - loss: 0.0667\n",
            "Epoch 2/10\n",
            "372/372 [==============================] - 3s 9ms/step - loss: 0.0717\n",
            "Epoch 3/10\n",
            "372/372 [==============================] - 3s 9ms/step - loss: 0.0743\n",
            "Epoch 4/10\n",
            "372/372 [==============================] - 3s 9ms/step - loss: 0.0777\n",
            "Epoch 5/10\n",
            "372/372 [==============================] - 3s 9ms/step - loss: 0.0724\n",
            "Epoch 6/10\n",
            "372/372 [==============================] - 3s 9ms/step - loss: 0.0735\n",
            "Epoch 7/10\n",
            "372/372 [==============================] - 3s 9ms/step - loss: 0.0708\n",
            "Epoch 8/10\n",
            "372/372 [==============================] - 3s 9ms/step - loss: 0.0682\n",
            "Epoch 9/10\n",
            "372/372 [==============================] - 3s 9ms/step - loss: 0.0642\n",
            "Epoch 10/10\n",
            "372/372 [==============================] - 3s 9ms/step - loss: 0.0712\n"
          ],
          "name": "stdout"
        },
        {
          "output_type": "execute_result",
          "data": {
            "text/plain": [
              "<tensorflow.python.keras.callbacks.History at 0x7f2e498c74e0>"
            ]
          },
          "metadata": {
            "tags": []
          },
          "execution_count": 17
        }
      ]
    },
    {
      "cell_type": "markdown",
      "metadata": {
        "id": "M_ir7Cj4rVzt"
      },
      "source": [
        "---"
      ]
    },
    {
      "cell_type": "markdown",
      "metadata": {
        "id": "MJEHuV9crVzt"
      },
      "source": [
        "## Model Performance\n",
        "\n",
        "In this section, you will evaluate the model using the test data. \n",
        "\n",
        "You will need to:\n",
        "1. Evaluate the model using the `X_test` and `y_test` data.\n",
        "2. Use the X_test data to make predictions\n",
        "3. Create a DataFrame of Real (y_test) vs predicted values. \n",
        "4. Plot the Real vs predicted values as a line chart\n",
        "\n",
        "### Hints\n",
        "Remember to apply the `inverse_transform` function to the predicted and y_test values to recover the actual closing prices."
      ]
    },
    {
      "cell_type": "code",
      "metadata": {
        "colab": {
          "base_uri": "https://localhost:8080/"
        },
        "id": "cwcl2lXMrVzu",
        "outputId": "5593c14b-2cb5-4e6c-8d12-9d9f53bba3b3"
      },
      "source": [
        "# Evaluate the model\n",
        "# YOUR CODE HERE!\n",
        "model.evaluate(X_test, y_test)"
      ],
      "execution_count": 18,
      "outputs": [
        {
          "output_type": "stream",
          "text": [
            "5/5 [==============================] - 1s 5ms/step - loss: 0.1219\n"
          ],
          "name": "stdout"
        },
        {
          "output_type": "execute_result",
          "data": {
            "text/plain": [
              "0.12194047123193741"
            ]
          },
          "metadata": {
            "tags": []
          },
          "execution_count": 18
        }
      ]
    },
    {
      "cell_type": "code",
      "metadata": {
        "id": "tufTrZS3rVzu"
      },
      "source": [
        "# Make some predictions\n",
        "# YOUR CODE HERE!\n",
        "predicted = model.predict(X_test)"
      ],
      "execution_count": 19,
      "outputs": []
    },
    {
      "cell_type": "code",
      "metadata": {
        "id": "NamJ0mKErVzu"
      },
      "source": [
        "# Recover the original prices instead of the scaled version\n",
        "predicted_prices = scaler.inverse_transform(predicted)\n",
        "real_prices = scaler.inverse_transform(y_test.reshape(-1, 1))"
      ],
      "execution_count": 21,
      "outputs": []
    },
    {
      "cell_type": "code",
      "metadata": {
        "colab": {
          "base_uri": "https://localhost:8080/",
          "height": 204
        },
        "id": "c18i0P68rVzv",
        "outputId": "ab1bed2e-d815-4d39-cae0-37bfe886fa04"
      },
      "source": [
        "# Create a DataFrame of Real and Predicted values\n",
        "stocks = pd.DataFrame({\n",
        "    \"Real\": real_prices.ravel(),\n",
        "    \"Predicted\": predicted_prices.ravel()\n",
        "}, index = df.index[-len(real_prices): ]) \n",
        "stocks.head()"
      ],
      "execution_count": 22,
      "outputs": [
        {
          "output_type": "execute_result",
          "data": {
            "text/html": [
              "<div>\n",
              "<style scoped>\n",
              "    .dataframe tbody tr th:only-of-type {\n",
              "        vertical-align: middle;\n",
              "    }\n",
              "\n",
              "    .dataframe tbody tr th {\n",
              "        vertical-align: top;\n",
              "    }\n",
              "\n",
              "    .dataframe thead th {\n",
              "        text-align: right;\n",
              "    }\n",
              "</style>\n",
              "<table border=\"1\" class=\"dataframe\">\n",
              "  <thead>\n",
              "    <tr style=\"text-align: right;\">\n",
              "      <th></th>\n",
              "      <th>Real</th>\n",
              "      <th>Predicted</th>\n",
              "    </tr>\n",
              "  </thead>\n",
              "  <tbody>\n",
              "    <tr>\n",
              "      <th>2019-02-20</th>\n",
              "      <td>3924.239990</td>\n",
              "      <td>4717.979980</td>\n",
              "    </tr>\n",
              "    <tr>\n",
              "      <th>2019-02-21</th>\n",
              "      <td>3974.050049</td>\n",
              "      <td>4793.755371</td>\n",
              "    </tr>\n",
              "    <tr>\n",
              "      <th>2019-02-22</th>\n",
              "      <td>3937.040039</td>\n",
              "      <td>4861.982910</td>\n",
              "    </tr>\n",
              "    <tr>\n",
              "      <th>2019-02-23</th>\n",
              "      <td>3983.530029</td>\n",
              "      <td>4912.349121</td>\n",
              "    </tr>\n",
              "    <tr>\n",
              "      <th>2019-02-24</th>\n",
              "      <td>4149.089844</td>\n",
              "      <td>4949.642578</td>\n",
              "    </tr>\n",
              "  </tbody>\n",
              "</table>\n",
              "</div>"
            ],
            "text/plain": [
              "                   Real    Predicted\n",
              "2019-02-20  3924.239990  4717.979980\n",
              "2019-02-21  3974.050049  4793.755371\n",
              "2019-02-22  3937.040039  4861.982910\n",
              "2019-02-23  3983.530029  4912.349121\n",
              "2019-02-24  4149.089844  4949.642578"
            ]
          },
          "metadata": {
            "tags": []
          },
          "execution_count": 22
        }
      ]
    },
    {
      "cell_type": "code",
      "metadata": {
        "colab": {
          "base_uri": "https://localhost:8080/",
          "height": 294
        },
        "id": "QLLK7ymlrVzv",
        "outputId": "f6a03994-e468-422a-c441-28babac305bc"
      },
      "source": [
        "# Plot the real vs predicted values as a line chart\n",
        "# YOUR CODE HERE!\n",
        "stocks.plot()"
      ],
      "execution_count": 23,
      "outputs": [
        {
          "output_type": "execute_result",
          "data": {
            "text/plain": [
              "<matplotlib.axes._subplots.AxesSubplot at 0x7f2e456137f0>"
            ]
          },
          "metadata": {
            "tags": []
          },
          "execution_count": 23
        },
        {
          "output_type": "display_data",
          "data": {
            "image/png": "[encoded data removed]",
            "text/plain": [
              "<Figure size 432x288 with 1 Axes>"
            ]
          },
          "metadata": {
            "tags": [],
            "needs_background": "light"
          }
        }
      ]
    },
    {
      "cell_type": "code",
      "metadata": {
        "id": "BsV-eAX7rVzv"
      },
      "source": [
        ""
      ],
      "execution_count": null,
      "outputs": []
    }
  ]
}